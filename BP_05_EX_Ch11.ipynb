{
  "nbformat": 4,
  "nbformat_minor": 0,
  "metadata": {
    "colab": {
      "provenance": [],
      "authorship_tag": "ABX9TyMpjGwuKR7pULG3kUuggF+t",
      "include_colab_link": true
    },
    "kernelspec": {
      "name": "python3",
      "display_name": "Python 3"
    },
    "language_info": {
      "name": "python"
    }
  },
  "cells": [
    {
      "cell_type": "markdown",
      "metadata": {
        "id": "view-in-github",
        "colab_type": "text"
      },
      "source": [
        "<a href=\"https://colab.research.google.com/github/wlstjwlstj/BP_05_Ch11/blob/main/BP_05_EX_Ch11.ipynb\" target=\"_parent\"><img src=\"https://colab.research.google.com/assets/colab-badge.svg\" alt=\"Open In Colab\"/></a>"
      ]
    },
    {
      "cell_type": "markdown",
      "source": [
        "1. 사용자가 입력한 텍스트 파일을 열어서 파일 안에 글자가 몇 개나 있는지를 계산하는 프로그램을 작성하라."
      ],
      "metadata": {
        "id": "G-ebba27YaYk"
      }
    },
    {
      "cell_type": "code",
      "source": [
        "filename=input(\"파일 이름을 입력하세요: \").strip()\n",
        "infile=open(filename, \"r\")\n",
        "count=0\n",
        "\n",
        "for line in infile:\n",
        "  for ch in line:\n",
        "    count+=1\n",
        "print(\"파일 안에는 총\", count, \"개의 글자가 있습니다.\")\n",
        "infile.close()"
      ],
      "metadata": {
        "id": "3ruZXHsGxUbG"
      },
      "execution_count": null,
      "outputs": []
    },
    {
      "cell_type": "markdown",
      "source": [
        "2. 사용자로부터 파일 이름과 삭제할 문자열을 입력받는다. 파일을 열어서 사용자가 원하는 문자열을 삭제한 후에 다시 파일에 쓴다."
      ],
      "metadata": {
        "id": "zxgsMWRsaku6"
      }
    },
    {
      "cell_type": "code",
      "source": [
        "infilename= input(\"파일 이름을 입력하시오: \").strip()\n",
        "infile= open(infilename, \"r\")\n",
        "file_s= infile.read()\n",
        "removed_s= input(\"삭제할 문자열을 입력하시오: \").strip()\n",
        "modified_s= file_s.replace(replaced_s, \"\")\n",
        "\n",
        "infile.close()\n",
        "outfile=open(infilename,\"w\")\n",
        "print(modified_s, file=outfile, end=\"\")\n",
        "print(\"변경된 파일이 저장되었습니다.\")\n",
        "outfile.close()"
      ],
      "metadata": {
        "id": "Uf91anzOxYeB"
      },
      "execution_count": null,
      "outputs": []
    },
    {
      "cell_type": "markdown",
      "source": [
        "3. 사용자가 입력하는 파일에 있는 각 문자들이 나타내는 빈도를 계산하는 프로그램을 작성하라."
      ],
      "metadata": {
        "id": "q01oZoJrauWL"
      }
    },
    {
      "cell_type": "code",
      "source": [],
      "metadata": {
        "id": "PqiHQDWXa0fM"
      },
      "execution_count": null,
      "outputs": []
    },
    {
      "cell_type": "markdown",
      "source": [
        "4. 파이썬에서 객체를 파일에 저장할 수 있다. pickle 모듈을 사용하여서 정수 12, 실수 3.14, 리스트 [1,2,3,4,5,]를 이진 파일 \"test,dat\"에 저장하였다가 다시 읽는 프로그램을 작성하고 테스트하라."
      ],
      "metadata": {
        "id": "Ry1voNtga0o8"
      }
    },
    {
      "cell_type": "code",
      "source": [],
      "metadata": {
        "id": "1MKo69xYbFo0"
      },
      "execution_count": null,
      "outputs": []
    },
    {
      "cell_type": "markdown",
      "source": [
        "5. 텍스트 파일 \"data.txt\"에 실수값들이 저장되어 있다고 가정하자. 한 줄에 하나의 실수만 저장되어 있다. 예를 들면 다음과 같다"
      ],
      "metadata": {
        "id": "4ycxfWXFbF1r"
      }
    },
    {
      "cell_type": "code",
      "source": [],
      "metadata": {
        "id": "6vko9LfzbPSs"
      },
      "execution_count": null,
      "outputs": []
    },
    {
      "cell_type": "markdown",
      "source": [
        "6. thinker를 사용하여 다음과 같은 사용자 인터페이스를 만든다. \"추가\" 버튼을 누르면 사용자가 입력한 이름과 전화번호 리스트가 파일 \"phone_book.dat\"에 저장된다. \"파일 읽기\"를 누르면 파일 \"phone_book.dat\"에서 전화번호를 읽어오는 프로그램을 작성하라."
      ],
      "metadata": {
        "id": "6is2V4AObPcE"
      }
    },
    {
      "cell_type": "code",
      "source": [],
      "metadata": {
        "id": "YJkH3-hKbmsT"
      },
      "execution_count": null,
      "outputs": []
    }
  ]
}