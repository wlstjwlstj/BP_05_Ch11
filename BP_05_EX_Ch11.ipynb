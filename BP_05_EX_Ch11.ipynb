{
  "nbformat": 4,
  "nbformat_minor": 0,
  "metadata": {
    "colab": {
      "provenance": [],
      "authorship_tag": "ABX9TyNLxR9y/0mUhuvrmAd8lY4a",
      "include_colab_link": true
    },
    "kernelspec": {
      "name": "python3",
      "display_name": "Python 3"
    },
    "language_info": {
      "name": "python"
    }
  },
  "cells": [
    {
      "cell_type": "markdown",
      "metadata": {
        "id": "view-in-github",
        "colab_type": "text"
      },
      "source": [
        "<a href=\"https://colab.research.google.com/github/wlstjwlstj/BP_05_Ch11/blob/main/BP_05_EX_Ch11.ipynb\" target=\"_parent\"><img src=\"https://colab.research.google.com/assets/colab-badge.svg\" alt=\"Open In Colab\"/></a>"
      ]
    },
    {
      "cell_type": "markdown",
      "source": [
        "1. 사용자가 입력한 텍스트 파일을 열어서 파일 안에 글자가 몇 개나 있는지를 계산하는 프로그램을 작성하라."
      ],
      "metadata": {
        "id": "G-ebba27YaYk"
      }
    },
    {
      "cell_type": "code",
      "source": [
        "t=0\n",
        "filename=input(\"파일 이름을 입력하세요\")\n",
        "infile=open(filename,\"r\")\n",
        "for line in infile:\n",
        "    line=line.strip()\n",
        "c=len(line)\n",
        "t=t+c\n",
        "\n",
        "\n",
        "print(\"파일안에는 총\",t,\"개의 글자가 있습니다\")"
      ],
      "metadata": {
        "id": "s3UvWrXEY3U8"
      },
      "execution_count": null,
      "outputs": []
    },
    {
      "cell_type": "markdown",
      "source": [
        "2. 사용자로부터 파일 이름과 삭제할 문자열을 입력받는다. 파일을 열어서 사용자가 원하는 문자열을 삭제한 후에 다시 파일에 쓴다."
      ],
      "metadata": {
        "id": "zxgsMWRsaku6"
      }
    },
    {
      "cell_type": "code",
      "source": [],
      "metadata": {
        "id": "DZMxsu_9auLz"
      },
      "execution_count": null,
      "outputs": []
    },
    {
      "cell_type": "markdown",
      "source": [
        "3. 사용자가 입력하는 파일에 있는 각 문자들이 나타내는 빈도를 계산하는 프로그램을 작성하라."
      ],
      "metadata": {
        "id": "q01oZoJrauWL"
      }
    },
    {
      "cell_type": "code",
      "source": [],
      "metadata": {
        "id": "PqiHQDWXa0fM"
      },
      "execution_count": null,
      "outputs": []
    },
    {
      "cell_type": "markdown",
      "source": [
        "4. 파이썬에서 객체를 파일에 저장할 수 있다. pickle 모듈을 사용하여서 정수 12, 실수 3.14, 리스트 [1,2,3,4,5,]를 이진 파일 \"test,dat\"에 저장하였다가 다시 읽는 프로그램을 작성하고 테스트하라."
      ],
      "metadata": {
        "id": "Ry1voNtga0o8"
      }
    },
    {
      "cell_type": "code",
      "source": [],
      "metadata": {
        "id": "1MKo69xYbFo0"
      },
      "execution_count": null,
      "outputs": []
    },
    {
      "cell_type": "markdown",
      "source": [
        "5. 텍스트 파일 \"data.txt\"에 실수값들이 저장되어 있다고 가정하자. 한 줄에 하나의 실수만 저장되어 있다. 예를 들면 다음과 같다"
      ],
      "metadata": {
        "id": "4ycxfWXFbF1r"
      }
    },
    {
      "cell_type": "code",
      "source": [],
      "metadata": {
        "id": "6vko9LfzbPSs"
      },
      "execution_count": null,
      "outputs": []
    },
    {
      "cell_type": "markdown",
      "source": [
        "6. thinker를 사용하여 다음과 같은 사용자 인터페이스를 만든다. \"추가\" 버튼을 누르면 사용자가 입력한 이름과 전화번호 리스트가 파일 \"phone_book.dat\"에 저장된다. \"파일 읽기\"를 누르면 파일 \"phone_book.dat\"에서 전화번호를 읽어오는 프로그램을 작성하라."
      ],
      "metadata": {
        "id": "6is2V4AObPcE"
      }
    },
    {
      "cell_type": "code",
      "source": [],
      "metadata": {
        "id": "YJkH3-hKbmsT"
      },
      "execution_count": null,
      "outputs": []
    }
  ]
}